{
 "cells": [
  {
   "cell_type": "code",
   "execution_count": 1,
   "metadata": {},
   "outputs": [
    {
     "name": "stdout",
     "output_type": "stream",
     "text": [
      "Node A\n",
      "Node B\n"
     ]
    },
    {
     "data": {
      "text/plain": [
       "[{'node_a': {'value': 'a'}},\n",
       " {'__interrupt__': (Interrupt(value='Do you want to go to C or D? Type C/D', resumable=True, ns=['node_b:1baa0dc2-f4b7-869b-751e-e460e5da9ce1']),)}]"
      ]
     },
     "execution_count": 1,
     "metadata": {},
     "output_type": "execute_result"
    }
   ],
   "source": [
    "from langgraph.graph import StateGraph, START, END\n",
    "from langgraph.types import Command, interrupt\n",
    "from typing import TypedDict\n",
    "from langgraph.checkpoint.memory import MemorySaver\n",
    "\n",
    "\n",
    "memory = MemorySaver()\n",
    "\n",
    "class State(TypedDict):\n",
    "    value: str\n",
    "\n",
    "def node_a(state: State): \n",
    "    print(\"Node A\")\n",
    "    return Command(\n",
    "        goto=\"node_b\", \n",
    "        update={\n",
    "            \"value\": state[\"value\"] + \"a\"\n",
    "        }\n",
    "    )\n",
    "\n",
    "def node_b(state: State): \n",
    "    print(\"Node B\")\n",
    "\n",
    "    human_response = interrupt(\"Do you want to go to C or D? Type C/D\")\n",
    "\n",
    "    print(\"Human Review Values: \", human_response)\n",
    "    \n",
    "    if(human_response == \"C\"): \n",
    "        return Command(\n",
    "            goto=\"node_c\", \n",
    "            update={\n",
    "                \"value\": state[\"value\"] + \"b\"\n",
    "            }\n",
    "        ) \n",
    "    elif(human_response == \"D\"): \n",
    "        return Command(\n",
    "            goto=\"node_d\", \n",
    "            update={\n",
    "                \"value\": state[\"value\"] + \"b\"\n",
    "            }\n",
    "        )\n",
    "\n",
    "\n",
    "def node_c(state: State): \n",
    "    print(\"Node C\")\n",
    "    return Command(\n",
    "        goto=END, \n",
    "        update={\n",
    "            \"value\": state[\"value\"] + \"c\"\n",
    "        }\n",
    "    )\n",
    "\n",
    "def node_d(state: State): \n",
    "    print(\"Node D\")\n",
    "    return Command(\n",
    "        goto=END, \n",
    "        update={\n",
    "            \"value\": state[\"value\"] + \"d\"\n",
    "        }\n",
    ")\n",
    "\n",
    "graph = StateGraph(State)\n",
    "\n",
    "graph.add_node(\"node_a\", node_a)\n",
    "graph.add_node(\"node_b\", node_b)\n",
    "graph.add_node(\"node_c\", node_c)\n",
    "graph.add_node(\"node_d\", node_d)\n",
    "\n",
    "graph.set_entry_point(\"node_a\") \n",
    "\n",
    "app = graph.compile(checkpointer=memory)\n",
    "\n",
    "config = {\"configurable\": {\"thread_id\": \"1\"}}\n",
    "\n",
    "initialState = {\n",
    "    \"value\": \"\"\n",
    "}\n",
    "\n",
    "first_result = app.invoke(initialState, config, stream_mode=\"updates\")\n",
    "first_result\n"
   ]
  },
  {
   "cell_type": "code",
   "execution_count": 2,
   "metadata": {},
   "outputs": [
    {
     "name": "stdout",
     "output_type": "stream",
     "text": [
      "('node_b',)\n"
     ]
    }
   ],
   "source": [
    "print(app.get_state(config).next)"
   ]
  },
  {
   "cell_type": "code",
   "execution_count": 3,
   "metadata": {},
   "outputs": [
    {
     "name": "stderr",
     "output_type": "stream",
     "text": [
      "Task node_c with path ('__pregel_pull', 'node_c') wrote to unknown channel branch:to:__end__, ignoring it.\n"
     ]
    },
    {
     "name": "stdout",
     "output_type": "stream",
     "text": [
      "Node B\n",
      "Human Review Values:  C\n",
      "Node C\n"
     ]
    },
    {
     "data": {
      "text/plain": [
       "[{'node_b': {'value': 'ab'}}, {'node_c': {'value': 'abc'}}]"
      ]
     },
     "execution_count": 3,
     "metadata": {},
     "output_type": "execute_result"
    }
   ],
   "source": [
    "second_result = app.invoke(Command(resume=\"C\"), config=config, stream_mode=\"updates\")\n",
    "second_result"
   ]
  }
 ],
 "metadata": {
  "kernelspec": {
   "display_name": "Python 3",
   "language": "python",
   "name": "python3"
  },
  "language_info": {
   "codemirror_mode": {
    "name": "ipython",
    "version": 3
   },
   "file_extension": ".py",
   "mimetype": "text/x-python",
   "name": "python",
   "nbconvert_exporter": "python",
   "pygments_lexer": "ipython3",
   "version": "3.11.9"
  }
 },
 "nbformat": 4,
 "nbformat_minor": 2
}
