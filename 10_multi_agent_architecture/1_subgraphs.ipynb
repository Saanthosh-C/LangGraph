{
 "cells": [
  {
   "cell_type": "code",
   "execution_count": 1,
   "metadata": {},
   "outputs": [
    {
     "name": "stderr",
     "output_type": "stream",
     "text": [
      "C:\\Users\\Senthil Kumar P\\AppData\\Local\\Temp\\ipykernel_20256\\2942908815.py:14: LangChainDeprecationWarning: The class `TavilySearchResults` was deprecated in LangChain 0.3.25 and will be removed in 1.0. An updated version of the class exists in the :class:`~langchain-tavily package and should be used instead. To use it run `pip install -U :class:`~langchain-tavily` and import as `from :class:`~langchain_tavily import TavilySearch``.\n",
      "  search_tool = TavilySearchResults(max_results=2)\n"
     ]
    }
   ],
   "source": [
    "from typing import TypedDict, Annotated\n",
    "from langgraph.graph import add_messages, StateGraph, END\n",
    "from langchain_openai import ChatOpenAI\n",
    "from langchain_core.messages import AIMessage, HumanMessage\n",
    "from dotenv import load_dotenv\n",
    "from langchain_community.tools.tavily_search import TavilySearchResults\n",
    "from langgraph.prebuilt import ToolNode\n",
    "\n",
    "load_dotenv()\n",
    "\n",
    "class ChildState(TypedDict):\n",
    "    messages: Annotated[list, add_messages]\n",
    "\n",
    "search_tool = TavilySearchResults(max_results=2)\n",
    "tools = [search_tool]\n",
    "\n",
    "llm = ChatOpenAI(model=\"llama-3.1-8b-instant\", openai_api_base=\"https://apidev.navigatelabsai.com\")\n",
    "\n",
    "llm_with_tools = llm.bind_tools(tools=tools)\n",
    "\n",
    "def agent(state: ChildState):\n",
    "    return {\n",
    "        \"messages\": [llm_with_tools.invoke(state[\"messages\"])], \n",
    "    }\n",
    "\n",
    "def tools_router(state: ChildState):\n",
    "    last_message = state[\"messages\"][-1]\n",
    "\n",
    "    if(hasattr(last_message, \"tool_calls\") and len(last_message.tool_calls) > 0):\n",
    "        return \"tool_node\"\n",
    "    else: \n",
    "        return END\n",
    "    \n",
    "\n",
    "tool_node = ToolNode(tools=tools)\n",
    "\n",
    "subgraph = StateGraph(ChildState)\n",
    "\n",
    "subgraph.add_node(\"agent\", agent)\n",
    "subgraph.add_node(\"tool_node\", tool_node)\n",
    "subgraph.set_entry_point(\"agent\")\n",
    "\n",
    "subgraph.add_conditional_edges(\"agent\", tools_router)\n",
    "subgraph.add_edge(\"tool_node\", \"agent\")\n",
    "\n",
    "search_app = subgraph.compile()"
   ]
  },
  {
   "cell_type": "code",
   "execution_count": 2,
   "metadata": {},
   "outputs": [
    {
     "data": {
      "image/png": "[encoded data removed]",
      "text/plain": [
       "<IPython.core.display.Image object>"
      ]
     },
     "metadata": {},
     "output_type": "display_data"
    }
   ],
   "source": [
    "from IPython.display import Image, display\n",
    "from langchain_core.runnables.graph import MermaidDrawMethod\n",
    "\n",
    "display(\n",
    "    Image(\n",
    "        search_app.get_graph().draw_mermaid_png(\n",
    "            draw_method=MermaidDrawMethod.API\n",
    "        )\n",
    "    )\n",
    ")"
   ]
  },
  {
   "cell_type": "code",
   "execution_count": 3,
   "metadata": {},
   "outputs": [
    {
     "data": {
      "text/plain": [
       "{'messages': [HumanMessage(content='How is the weather in Chennai?', additional_kwargs={}, response_metadata={}, id='492b7975-1d04-4f23-b306-8e819245528f'),\n",
       "  AIMessage(content='', additional_kwargs={'tool_calls': [{'id': 'pe0ewb0nk', 'function': {'arguments': '{\"query\":\"Chennai weather today\"}', 'name': 'tavily_search_results_json'}, 'type': 'function'}], 'refusal': None}, response_metadata={'token_usage': {'completion_tokens': 21, 'prompt_tokens': 569, 'total_tokens': 590, 'completion_tokens_details': None, 'prompt_tokens_details': None, 'queue_time': -0.067044685, 'prompt_time': 0.037245314, 'completion_time': 0.032975145, 'total_time': 0.070220459}, 'model_name': 'llama-3.1-8b-instant', 'system_fingerprint': 'fp_0f5c9bc037', 'id': 'chatcmpl-7d0dd37d-d99b-41c2-9f9b-7b12e040ef56', 'service_tier': None, 'finish_reason': 'tool_calls', 'logprobs': None}, id='run--985a74b6-9fbb-4a09-9f24-ed819c3798c6-0', tool_calls=[{'name': 'tavily_search_results_json', 'args': {'query': 'Chennai weather today'}, 'id': 'pe0ewb0nk', 'type': 'tool_call'}], usage_metadata={'input_tokens': 569, 'output_tokens': 21, 'total_tokens': 590, 'input_token_details': {}, 'output_token_details': {}}),\n",
       "  ToolMessage(content='[{\"title\": \"Chennai Weather Forecast 8 Jul 2025 - Times of India\", \"url\": \"https://timesofindia.indiatimes.com/weather/chennai-weather-forecast-today/600017\", \"content\": \"Today\\'s Weather in Chennai: In Chennai today, the weather is expected to be Fog with a maximum temperature of 38°C and a minimum of 28°C. Sunrise in Chennai\", \"score\": 0.9467988}, {\"title\": \"Weather in Chennai in July 2025 (State of Tamil Nādu)\", \"url\": \"https://world-weather.info/forecast/india/chennai_1/july-2025/\", \"content\": \"Weather in Chennai in July 2025. Chennai Weather Forecast for July 2025 ... Tuesday, 8 July. +86°. Day. +93°. Partly cloudy. Wednesday, 9 July. +86°. Day. +93\", \"score\": 0.9353998}]', name='tavily_search_results_json', id='46db0f7b-ffd0-4bf5-8df5-3a5cb3a0107b', tool_call_id='pe0ewb0nk', artifact={'query': 'Chennai weather today', 'follow_up_questions': None, 'answer': None, 'images': [], 'results': [{'url': 'https://timesofindia.indiatimes.com/weather/chennai-weather-forecast-today/600017', 'title': 'Chennai Weather Forecast 8 Jul 2025 - Times of India', 'content': \"Today's Weather in Chennai: In Chennai today, the weather is expected to be Fog with a maximum temperature of 38°C and a minimum of 28°C. Sunrise in Chennai\", 'score': 0.9467988, 'raw_content': None}, {'url': 'https://world-weather.info/forecast/india/chennai_1/july-2025/', 'title': 'Weather in Chennai in July 2025 (State of Tamil Nādu)', 'content': 'Weather in Chennai in July 2025. Chennai Weather Forecast for July 2025 ... Tuesday, 8 July. +86°. Day. +93°. Partly cloudy. Wednesday, 9 July. +86°. Day. +93', 'score': 0.9353998, 'raw_content': None}], 'response_time': 8.56}),\n",
       "  AIMessage(content='It appears that the weather in Chennai on July 8th, 2025 is expected to be foggy with a maximum temperature of 38°C and a minimum of 28°C.', additional_kwargs={'refusal': None}, response_metadata={'token_usage': {'completion_tokens': 39, 'prompt_tokens': 526, 'total_tokens': 565, 'completion_tokens_details': None, 'prompt_tokens_details': None, 'queue_time': 0.196756848, 'prompt_time': 0.031159467, 'completion_time': 0.054815883, 'total_time': 0.08597535}, 'model_name': 'llama-3.1-8b-instant', 'system_fingerprint': 'fp_0f5c9bc037', 'id': 'chatcmpl-70d7bb6c-e40b-4716-821d-1e2107d9a1cc', 'service_tier': None, 'finish_reason': 'stop', 'logprobs': None}, id='run--2de1b020-b63d-486f-a976-7ba253178d1f-0', usage_metadata={'input_tokens': 526, 'output_tokens': 39, 'total_tokens': 565, 'input_token_details': {}, 'output_token_details': {}})]}"
      ]
     },
     "execution_count": 3,
     "metadata": {},
     "output_type": "execute_result"
    }
   ],
   "source": [
    "search_app.invoke({\"messages\": [HumanMessage(content=\"How is the weather in Chennai?\")]})"
   ]
  },
  {
   "cell_type": "markdown",
   "metadata": {},
   "source": [
    "Case 1: Shared Schema (Direct Embedding)"
   ]
  },
  {
   "cell_type": "code",
   "execution_count": 4,
   "metadata": {},
   "outputs": [
    {
     "data": {
      "text/plain": [
       "{'messages': [HumanMessage(content='How is the weather in Chennai?', additional_kwargs={}, response_metadata={}, id='78e68c03-49d3-4911-981c-2431eb9a2b7c'),\n",
       "  AIMessage(content='', additional_kwargs={'tool_calls': [{'id': 'cxqvmrz5s', 'function': {'arguments': '{\"query\":\"Current weather in Chennai\"}', 'name': 'tavily_search_results_json'}, 'type': 'function'}], 'refusal': None}, response_metadata={'token_usage': {'completion_tokens': 21, 'prompt_tokens': 285, 'total_tokens': 306, 'completion_tokens_details': None, 'prompt_tokens_details': None, 'queue_time': 0.19802172099999998, 'prompt_time': 0.016915704, 'completion_time': 0.036956909, 'total_time': 0.053872613}, 'model_name': 'llama-3.1-8b-instant', 'system_fingerprint': 'fp_510c177af0', 'id': 'chatcmpl-1a7d6e77-e93f-4162-af04-e7155cf438e3', 'service_tier': None, 'finish_reason': 'tool_calls', 'logprobs': None}, id='run--ac8151c6-33ad-4b83-b47c-2b396a48c9d7-0', tool_calls=[{'name': 'tavily_search_results_json', 'args': {'query': 'Current weather in Chennai'}, 'id': 'cxqvmrz5s', 'type': 'tool_call'}], usage_metadata={'input_tokens': 285, 'output_tokens': 21, 'total_tokens': 306, 'input_token_details': {}, 'output_token_details': {}}),\n",
       "  ToolMessage(content='[{\"title\": \"Weather in Chennai in July 2025 (State of Tamil Nādu)\", \"url\": \"https://world-weather.info/forecast/india/chennai_1/july-2025/\", \"content\": \"Weather in Chennai in July 2025. Chennai Weather Forecast for July 2025 ... Tuesday, 8 July. +86°. Day. +93°. Partly cloudy. Wednesday, 9 July. +86°. Day. +93\", \"score\": 0.93624437}, {\"title\": \"Chennai Weather Forecast 8 Jul 2025 - The Times of India\", \"url\": \"https://timesofindia.indiatimes.com/weather/chennai-weather-forecast-today/600017\", \"content\": \"Today\\'s Weather in Chennai: In Chennai today, the weather is expected to be Partly Cloudy with a maximum temperature of 38°C and a minimum of 30°C. Sunrise\", \"score\": 0.91901255}]', name='tavily_search_results_json', id='1fb84427-0a1c-46ab-953b-d00d4a8f7609', tool_call_id='cxqvmrz5s', artifact={'query': 'Current weather in Chennai', 'follow_up_questions': None, 'answer': None, 'images': [], 'results': [{'url': 'https://world-weather.info/forecast/india/chennai_1/july-2025/', 'title': 'Weather in Chennai in July 2025 (State of Tamil Nādu)', 'content': 'Weather in Chennai in July 2025. Chennai Weather Forecast for July 2025 ... Tuesday, 8 July. +86°. Day. +93°. Partly cloudy. Wednesday, 9 July. +86°. Day. +93', 'score': 0.93624437, 'raw_content': None}, {'url': 'https://timesofindia.indiatimes.com/weather/chennai-weather-forecast-today/600017', 'title': 'Chennai Weather Forecast 8 Jul 2025 - The Times of India', 'content': \"Today's Weather in Chennai: In Chennai today, the weather is expected to be Partly Cloudy with a maximum temperature of 38°C and a minimum of 30°C. Sunrise\", 'score': 0.91901255, 'raw_content': None}], 'response_time': 7.49}),\n",
       "  AIMessage(content='The weather in Chennai is expected to be partly cloudy with a maximum temperature of 38°C and a minimum of 30°C.', additional_kwargs={'refusal': None}, response_metadata={'token_usage': {'completion_tokens': 27, 'prompt_tokens': 528, 'total_tokens': 555, 'completion_tokens_details': None, 'prompt_tokens_details': None, 'queue_time': 0.198350806, 'prompt_time': 0.034378699, 'completion_time': 0.036, 'total_time': 0.070378699}, 'model_name': 'llama-3.1-8b-instant', 'system_fingerprint': 'fp_0f5c9bc037', 'id': 'chatcmpl-d63f0990-efef-46bf-bcc7-0c6d1c417a42', 'service_tier': None, 'finish_reason': 'stop', 'logprobs': None}, id='run--7cbae13d-75a1-4244-b30b-49cef3199840-0', usage_metadata={'input_tokens': 528, 'output_tokens': 27, 'total_tokens': 555, 'input_token_details': {}, 'output_token_details': {}})]}"
      ]
     },
     "execution_count": 4,
     "metadata": {},
     "output_type": "execute_result"
    }
   ],
   "source": [
    "from typing import TypedDict, Annotated\n",
    "from langgraph.graph import add_messages, StateGraph, START, END\n",
    "from langchain_core.messages import HumanMessage\n",
    "\n",
    "# Define parent graph with the same schema\n",
    "class ParentState(TypedDict):\n",
    "    messages: Annotated[list, add_messages]\n",
    "\n",
    "# Create parent graph\n",
    "parent_graph = StateGraph(ParentState)\n",
    "\n",
    "# Add the subgraph as a node\n",
    "parent_graph.add_node(\"search_agent\", search_app)\n",
    "\n",
    "# Connect the flow\n",
    "parent_graph.add_edge(START, \"search_agent\")\n",
    "parent_graph.add_edge(\"search_agent\", END)\n",
    "\n",
    "# Compile parent graph\n",
    "parent_app = parent_graph.compile()\n",
    "\n",
    "# Run the parent graph\n",
    "result = parent_app.invoke({\"messages\": [HumanMessage(content=\"How is the weather in Chennai?\")]})\n",
    "result"
   ]
  },
  {
   "cell_type": "markdown",
   "metadata": {},
   "source": [
    "Case 2: Different Schema (Invoke with Transformation)"
   ]
  },
  {
   "cell_type": "code",
   "execution_count": 5,
   "metadata": {},
   "outputs": [
    {
     "name": "stdout",
     "output_type": "stream",
     "text": [
      "{'query': 'How is the weather in Chennai?', 'response': '=function=tavily_search_results_json>{\"query\": \"Chennai weather\"}</function>'}\n"
     ]
    }
   ],
   "source": [
    "from typing import TypedDict, Annotated, Dict\n",
    "from langgraph.graph import StateGraph, START, END\n",
    "from langchain_core.messages import HumanMessage\n",
    "\n",
    "# Define parent graph with different schema\n",
    "class QueryState(TypedDict):\n",
    "    query: str\n",
    "    response: str\n",
    "\n",
    "# Function to invoke subgraph\n",
    "def search_agent(state: QueryState) -> Dict:\n",
    "    # Transform from parent schema to subgraph schema\n",
    "    subgraph_input = {\n",
    "        \"messages\": [HumanMessage(content=state[\"query\"])]\n",
    "    }\n",
    "    \n",
    "    # Invoke the subgraph\n",
    "    subgraph_result = search_app.invoke(subgraph_input)\n",
    "    \n",
    "    # Transform response back to parent schema\n",
    "    assistant_message = subgraph_result[\"messages\"][-1]\n",
    "    return {\"response\": assistant_message.content}\n",
    "\n",
    "# Create parent graph\n",
    "parent_graph = StateGraph(QueryState)\n",
    "\n",
    "# Add transformation node that invokes subgraph\n",
    "parent_graph.add_node(\"search_agent\", search_agent)\n",
    "\n",
    "# Connect the flow\n",
    "parent_graph.add_edge(START, \"search_agent\")\n",
    "parent_graph.add_edge(\"search_agent\", END)\n",
    "\n",
    "# Compile parent graph\n",
    "parent_app = parent_graph.compile()\n",
    "\n",
    "# Run the parent graph\n",
    "result = parent_app.invoke({\"query\": \"How is the weather in Chennai?\", \"response\": \"\"})\n",
    "print(result)"
   ]
  }
 ],
 "metadata": {
  "kernelspec": {
   "display_name": ".venv",
   "language": "python",
   "name": "python3"
  },
  "language_info": {
   "codemirror_mode": {
    "name": "ipython",
    "version": 3
   },
   "file_extension": ".py",
   "mimetype": "text/x-python",
   "name": "python",
   "nbconvert_exporter": "python",
   "pygments_lexer": "ipython3",
   "version": "3.11.9"
  }
 },
 "nbformat": 4,
 "nbformat_minor": 2
}
